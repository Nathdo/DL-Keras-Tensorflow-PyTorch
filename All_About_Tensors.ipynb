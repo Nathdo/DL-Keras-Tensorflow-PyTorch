{
 "cells": [
  {
   "cell_type": "markdown",
   "id": "cc0cc9a4-49e9-4800-a4cd-bba6c9788748",
   "metadata": {},
   "source": [
    "# Tensorflow - All About Tensors\n",
    "\n",
    "link : https://www.youtube.com/watch?v=tpCFfeUEGs8&t=9406s\n",
    "\n",
    "We uses Tensorflow for buildings models that can do some of followings things:\n",
    "\n",
    "* Image Classification\n",
    "* Data Clustering\n",
    "* Regression\n",
    "* Reiforcement Learning\n",
    "* Natural language processing (NLP)\n",
    "\n",
    "\n",
    "### Tensors\n",
    "\n",
    "A tensor in TensorFlow is essentially a data structure that allows numbers to be stored in an organized form, similar to a multi-dimensional matrix or array. It's like a box with many compartments, where each compartment can hold a number. These \"boxes\" can have different shapes, such as a single-dimensional array (vector), a two-dimensional matrix (array), or even more complex shapes to represent multidimensional data.\n",
    "\n",
    "The common analogy for understanding tensors is to compare them to data containers, similar to Lego boxes. Each Lego box (or \"compartment\" in tensor) can hold a number (or value) and is organized into a larger structure. These tensors are used to store and manipulate data in the field of deep learning, which allows machine learning algorithms to work with complex information like images, videos or text.\n",
    "\n",
    "\n",
    "**A Tensor can be : int32, float32, str...**\n",
    "\n",
    "**A Tensor can be : a Scalar, a Vector, a Matrix**\n",
    "\n",
    "**A Rank is a like 'degree'. It's mean the number of dimension involved in a tensor; a rank of 0 is also call a scalar**"
   ]
  },
  {
   "cell_type": "markdown",
   "id": "519264a3-438f-4065-a4ac-73e629ec259d",
   "metadata": {},
   "source": [
    "## Two ways to build Tensors\n",
    "\n",
    "The difference between two of them is that `tf.Variable()` is changeable using `.assign()` & `tf.constant()` is not"
   ]
  },
  {
   "cell_type": "code",
   "execution_count": null,
   "id": "d4685ead-1244-43d5-a0d6-2f5f86263edc",
   "metadata": {},
   "outputs": [
    {
     "name": "stderr",
     "output_type": "stream",
     "text": [
      "2024-05-17 13:25:42.284001: I tensorflow/core/platform/cpu_feature_guard.cc:210] This TensorFlow binary is optimized to use available CPU instructions in performance-critical operations.\n",
      "To enable the following instructions: AVX2 FMA, in other operations, rebuild TensorFlow with the appropriate compiler flags.\n"
     ]
    }
   ],
   "source": [
    "import tensorflow as tf\n",
    "import numpy as np\n",
    "import warnings\n",
    "warnings.filterwarnings('ignore')\n",
    "import matplotlib.pyplot as plt\n",
    "\n",
    "\n",
    "# Creating tensors with :\n",
    "# tf.Variable()\n",
    "str_ = tf.Variable('This is a string', tf.string)\n",
    "int_ = tf.Variable(3, tf.int16)\n",
    "float_ = tf.Variable(2.68, tf.float64)\n",
    "\n",
    "tensor_r1 = tf.Variable([3, 2, 1], tf.int32)\n",
    "tensor_r2 = tf.Variable([[1,2,3], [4,5,6]], tf.int32)\n",
    "\n",
    "print('With Variable():')\n",
    "print(f'1) The Vector is : {tensor_r2} & the dimension is : {tf.rank(tensor_r2)}')\n",
    "print(f'2) The type of the variable is {type(tensor_r2)}\\n')\n",
    "print(f'3) Before the scalar was {int_} & after is {int_.assign(7)}')\n",
    "\n",
    "\n",
    "# tf.constant()\n",
    "vector = tf.constant([1,2,3])\n",
    "matrix = tf.constant([[1,2,3], [4,5,6]])\n",
    "matrix_float = tf.constant([[1.,2.,3.], [4.,5.,6.]], dtype= tf.float64)\n",
    "print('\\nWith contant():')\n",
    "print(f'1) The Vector is : {vector} & the dimension is : {vector.ndim}')\n",
    "print(f'2) The Matrix is : {matrix} & the dimension is : {matrix.ndim}')\n",
    "print(f'3) The Float Matrix is : {matrix_float} & the type is {matrix_float.dtype}\\n')\n",
    "\n",
    "\n",
    "# Numpy \n",
    "print('With Numpy: ')\n",
    "a = np.arange(1, 25, dtype=np.int32)\n",
    "a_tensor = tf.constant(a, shape=(4,6)) # -> you can change the shape (for the shape the mult need to equal to the size, ex : 4*6, 2*3*4, 3*8...)\n",
    "print(f'Before is a {type(a)} & after is a {type(a_tensor)}')"
   ]
  },
  {
   "cell_type": "markdown",
   "id": "70be588f-df5d-4a5d-9b74-b14d40a238d6",
   "metadata": {},
   "source": [
    "## Shuffling Tensors\n",
    "\n",
    "Sometimes we will need to shuffle our tensors to confuse the model and he can learn from all data (if for example we have a majority of x)"
   ]
  },
  {
   "cell_type": "code",
   "execution_count": null,
   "id": "f9d3fec3-a8ee-401b-b392-d095b224bb30",
   "metadata": {},
   "outputs": [],
   "source": [
    "not_shuffle = tf.constant([[1,2,3], [4,5,6], [7,8,9]])\n",
    "\n",
    "# tf.random.set_seed(0) -> in the same order\n",
    "shuffle = tf.random.shuffle(not_shuffle)\n",
    "print(shuffle)\n",
    "print(f'The Shape is : {shuffle.shape} , the dimension : {shuffle.ndim} and the size : {tf.size(shuffle)}') "
   ]
  },
  {
   "cell_type": "markdown",
   "id": "f56de5d2-dff0-4126-a96f-da7aa554bd02",
   "metadata": {
    "tags": []
   },
   "source": [
    "## Manipulating Tensors\n",
    "\n",
    "`+`   `-`   `*`  `/`\n",
    "\n",
    "### Matrix Multiplication\n",
    "\n",
    "In Machine Learning, Matrix Multiplication is one of the most common operation\n",
    "\n",
    "The two rules :\n",
    "* The inner dimension must match (a,n)(n,b)\n",
    "* The resulting matrix has the shape of the inner dimension (a,b)"
   ]
  },
  {
   "cell_type": "code",
   "execution_count": null,
   "id": "af50443a-604a-4742-8d22-999309984641",
   "metadata": {},
   "outputs": [],
   "source": [
    "tensor =  tf.constant([[1,2,3], [4,5,6], [7,8,9]])\n",
    "print(tensor * 10) # other way -> tf.multiply(tensor, 10)\n",
    "\n",
    "print('\\nMultiplication Matricielle:')\n",
    "print(tf.matmul(tensor, tensor)) # multiplication matricielle (autre facon : tensor @ tensor) \n",
    "print(f'We can do the mult because the two matrix matches : {tensor.shape, tensor.shape}')"
   ]
  },
  {
   "cell_type": "markdown",
   "id": "51a59141-f5e9-4650-ba0e-9060ff36de1d",
   "metadata": {},
   "source": [
    "## Reshape Matrix of a Tensor\n",
    "\n",
    "By `tf.reshape` or `tf.transpose`"
   ]
  },
  {
   "cell_type": "code",
   "execution_count": null,
   "id": "eda1176e-07d1-4b6a-b247-71aba53a8af9",
   "metadata": {},
   "outputs": [],
   "source": [
    "tensor1 = tf.constant([[1,2,3]])\n",
    "tensor2 = tf.constant([[4,5,6]])\n",
    "\n",
    "print(f'The dimensions are: {tensor1.shape, tensor2.shape}')    \n",
    "\n",
    "try :\n",
    "    tf.matmul(tensor1, tensor2)\n",
    "except :\n",
    "    print('Matrix size-incompatible\\n')\n",
    "    \n",
    "# So we need to reshape one of the matrix \n",
    "tensor2 = tf.reshape(tensor2, shape=(3,1))  # or other way -> tf.transpose(tensor2)\n",
    "print(f'The dimensions are: {tensor1.shape, tensor2.shape}')    \n",
    "tf.matmul(tensor1, tensor2)"
   ]
  },
  {
   "cell_type": "code",
   "execution_count": null,
   "id": "901375b4-009e-40f3-a80a-80d77d17d7c2",
   "metadata": {},
   "outputs": [],
   "source": [
    "# So, to do more easy\n",
    "tensor3 = tf.constant([[1,2,3]])\n",
    "tensor4 = tf.constant([[4,5,6]])\n",
    "\n",
    "tf.matmul(tensor3, tf.transpose(tensor4))"
   ]
  },
  {
   "cell_type": "markdown",
   "id": "d07d24e2-bb79-4c29-9b99-207581852eaf",
   "metadata": {},
   "source": [
    "## Change Data type of a Tensor\n",
    "\n",
    "by `tf.cast(x, dtype = tf.)`"
   ]
  },
  {
   "cell_type": "code",
   "execution_count": null,
   "id": "a1008bb1-ef55-434c-8224-e9e871c7901f",
   "metadata": {},
   "outputs": [],
   "source": [
    "tens_float = tf.constant([1.2, 1.3])\n",
    "tens_float2 = tf.cast(tens_float, dtype=tf.float16)\n",
    "print(f'The dtype before was {tens_float.dtype} & after is {tens_float2.dtype}')\n",
    "\n",
    "tens_int = tf.cast(tens_float, dtype= tf.int16)\n",
    "print(f'And he is now {tens_int.dtype}')"
   ]
  },
  {
   "cell_type": "markdown",
   "id": "4b5dc6dc-a5fc-401b-8287-6964d0e8282c",
   "metadata": {},
   "source": [
    "## Aggregation function on Tensors (Mean, Max...)"
   ]
  },
  {
   "cell_type": "code",
   "execution_count": null,
   "id": "7b66a7a2-562e-4036-ba5b-e64033698ba6",
   "metadata": {},
   "outputs": [],
   "source": [
    "fifty = tf.constant(np.random.randint(0,100, size = 50))\n",
    "print(fifty)\n",
    "print(f'\\nThe Max is {tf.reduce_max(fifty)} in the index {tf.argmax(fifty)}, the Sum is : {tf.reduce_sum(fifty)} & the mean is: \\\n",
    "{tf.reduce_mean(fifty)}') # or -> np.max(), np.mean()..."
   ]
  },
  {
   "cell_type": "markdown",
   "id": "3f514f99-aa20-4fec-a2b8-981ca7bb0153",
   "metadata": {},
   "source": [
    "## Remove all Dimensions `squeeze`"
   ]
  },
  {
   "cell_type": "code",
   "execution_count": null,
   "id": "49b00db9-b280-449b-bde6-9a5a9f8170aa",
   "metadata": {},
   "outputs": [],
   "source": [
    "tf.random.set_seed(42)\n",
    "g = tf.constant(tf.random.normal(shape = [50]), shape = (1,1,1,1,50))\n",
    "print(f'{g.ndim} dim')\n",
    "g = tf.squeeze(g)\n",
    "print(f'{g.ndim} dim')"
   ]
  },
  {
   "cell_type": "markdown",
   "id": "80168d78-9fe7-4faf-a127-af17b9e5fced",
   "metadata": {},
   "source": [
    "## One-hot encoding Tensor\n",
    "\n",
    "A lire en ligne. Chaque colonne represente un nombre (0, 1...) et nous montre quelle chiffre se trouve a chaque index. Par exemple je regarde la ligne 4, je vois que le 1 se situe dans la colonne 5, donc a l'index 4 de ma liste se trouve le chiffre 4 (ne pas oublier que les colonnes commencent par 0). "
   ]
  },
  {
   "cell_type": "code",
   "execution_count": null,
   "id": "d422a704-105d-4382-a50c-f7f9bb392798",
   "metadata": {},
   "outputs": [],
   "source": [
    "some_colors = [1,1,1,4]\n",
    "tf.one_hot(some_colors, depth=5) "
   ]
  }
 ],
 "metadata": {
  "kernelspec": {
   "display_name": "Python 3 (ipykernel)",
   "language": "python",
   "name": "python3"
  },
  "language_info": {
   "codemirror_mode": {
    "name": "ipython",
    "version": 3
   },
   "file_extension": ".py",
   "mimetype": "text/x-python",
   "name": "python",
   "nbconvert_exporter": "python",
   "pygments_lexer": "ipython3",
   "version": "3.10.9"
  }
 },
 "nbformat": 4,
 "nbformat_minor": 5
}
